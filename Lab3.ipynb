{
  "nbformat": 4,
  "nbformat_minor": 0,
  "metadata": {
    "colab": {
      "provenance": []
    },
    "kernelspec": {
      "name": "python3",
      "display_name": "Python 3"
    },
    "language_info": {
      "name": "python"
    }
  },
  "cells": [
    {
      "cell_type": "markdown",
      "source": [
        "#Laboratório 3\n",
        "\n",
        "###Questão 1\n",
        "\n",
        "Carregue o dataset breast cancer disponível no sklearn e obtenha a distribuição de classes deste\n",
        "dataset.\n"
      ],
      "metadata": {
        "id": "G5AZiewqzAWK"
      }
    },
    {
      "cell_type": "code",
      "source": [
        "from sklearn import datasets\n",
        "import pandas as pd\n",
        "\n",
        "breast_cancer = datasets.load_breast_cancer()\n",
        "\n",
        "#separação entre características e classificação\n",
        "cancer_X = breast_cancer.data\n",
        "cancer_y = breast_cancer.target\n",
        "\n",
        "#print(cancer_X)\n",
        "#print(cancer_y)"
      ],
      "metadata": {
        "id": "SxuakMN-zzjE"
      },
      "execution_count": 9,
      "outputs": []
    },
    {
      "cell_type": "code",
      "source": [
        "import numpy as np\n",
        "\n",
        "def classDistribution(data_y):\n",
        "\n",
        "  tam = len(data_y)\n",
        "  #obter as classificações\n",
        "  labels = np.unique(data_y)\n",
        "  #print(labels)\n",
        "\n",
        "  classDistr = []\n",
        "\n",
        "  for class_value in labels:   \n",
        "    cvc = len([1 for i in data_y if i == class_value])\n",
        "    classDistr += [(class_value, cvc/tam)]\n",
        "\n",
        "  return classDistr\n",
        "\n",
        "\n",
        "classDistribution(cancer_y)"
      ],
      "metadata": {
        "colab": {
          "base_uri": "https://localhost:8080/"
        },
        "id": "dMe4uZsN3UNX",
        "outputId": "fbae01c3-289b-4679-cac7-262c701e7a0a"
      },
      "execution_count": 12,
      "outputs": [
        {
          "output_type": "execute_result",
          "data": {
            "text/plain": [
              "[(0, 0.37258347978910367), (1, 0.6274165202108963)]"
            ]
          },
          "metadata": {},
          "execution_count": 12
        }
      ]
    },
    {
      "cell_type": "code",
      "source": [
        "#fazendo com dataFrame\n",
        "from sklearn.datasets import load_breast_cancer\n",
        "import pandas as pd\n",
        "\n",
        "bc = load_breast_cancer(as_frame=True)\n",
        "df = pd.DataFrame(bc['data'])\n",
        "df['target'] = bc['target']\n",
        "\n",
        "df"
      ],
      "metadata": {
        "colab": {
          "base_uri": "https://localhost:8080/",
          "height": 522
        },
        "id": "5tElEA803pZg",
        "outputId": "a3349a40-f33a-4535-86dd-f3c6013adc54"
      },
      "execution_count": 13,
      "outputs": [
        {
          "output_type": "execute_result",
          "data": {
            "text/plain": [
              "     mean radius  mean texture  mean perimeter  mean area  mean smoothness  \\\n",
              "0          17.99         10.38          122.80     1001.0          0.11840   \n",
              "1          20.57         17.77          132.90     1326.0          0.08474   \n",
              "2          19.69         21.25          130.00     1203.0          0.10960   \n",
              "3          11.42         20.38           77.58      386.1          0.14250   \n",
              "4          20.29         14.34          135.10     1297.0          0.10030   \n",
              "..           ...           ...             ...        ...              ...   \n",
              "564        21.56         22.39          142.00     1479.0          0.11100   \n",
              "565        20.13         28.25          131.20     1261.0          0.09780   \n",
              "566        16.60         28.08          108.30      858.1          0.08455   \n",
              "567        20.60         29.33          140.10     1265.0          0.11780   \n",
              "568         7.76         24.54           47.92      181.0          0.05263   \n",
              "\n",
              "     mean compactness  mean concavity  mean concave points  mean symmetry  \\\n",
              "0             0.27760         0.30010              0.14710         0.2419   \n",
              "1             0.07864         0.08690              0.07017         0.1812   \n",
              "2             0.15990         0.19740              0.12790         0.2069   \n",
              "3             0.28390         0.24140              0.10520         0.2597   \n",
              "4             0.13280         0.19800              0.10430         0.1809   \n",
              "..                ...             ...                  ...            ...   \n",
              "564           0.11590         0.24390              0.13890         0.1726   \n",
              "565           0.10340         0.14400              0.09791         0.1752   \n",
              "566           0.10230         0.09251              0.05302         0.1590   \n",
              "567           0.27700         0.35140              0.15200         0.2397   \n",
              "568           0.04362         0.00000              0.00000         0.1587   \n",
              "\n",
              "     mean fractal dimension  ...  worst texture  worst perimeter  worst area  \\\n",
              "0                   0.07871  ...          17.33           184.60      2019.0   \n",
              "1                   0.05667  ...          23.41           158.80      1956.0   \n",
              "2                   0.05999  ...          25.53           152.50      1709.0   \n",
              "3                   0.09744  ...          26.50            98.87       567.7   \n",
              "4                   0.05883  ...          16.67           152.20      1575.0   \n",
              "..                      ...  ...            ...              ...         ...   \n",
              "564                 0.05623  ...          26.40           166.10      2027.0   \n",
              "565                 0.05533  ...          38.25           155.00      1731.0   \n",
              "566                 0.05648  ...          34.12           126.70      1124.0   \n",
              "567                 0.07016  ...          39.42           184.60      1821.0   \n",
              "568                 0.05884  ...          30.37            59.16       268.6   \n",
              "\n",
              "     worst smoothness  worst compactness  worst concavity  \\\n",
              "0             0.16220            0.66560           0.7119   \n",
              "1             0.12380            0.18660           0.2416   \n",
              "2             0.14440            0.42450           0.4504   \n",
              "3             0.20980            0.86630           0.6869   \n",
              "4             0.13740            0.20500           0.4000   \n",
              "..                ...                ...              ...   \n",
              "564           0.14100            0.21130           0.4107   \n",
              "565           0.11660            0.19220           0.3215   \n",
              "566           0.11390            0.30940           0.3403   \n",
              "567           0.16500            0.86810           0.9387   \n",
              "568           0.08996            0.06444           0.0000   \n",
              "\n",
              "     worst concave points  worst symmetry  worst fractal dimension  target  \n",
              "0                  0.2654          0.4601                  0.11890       0  \n",
              "1                  0.1860          0.2750                  0.08902       0  \n",
              "2                  0.2430          0.3613                  0.08758       0  \n",
              "3                  0.2575          0.6638                  0.17300       0  \n",
              "4                  0.1625          0.2364                  0.07678       0  \n",
              "..                    ...             ...                      ...     ...  \n",
              "564                0.2216          0.2060                  0.07115       0  \n",
              "565                0.1628          0.2572                  0.06637       0  \n",
              "566                0.1418          0.2218                  0.07820       0  \n",
              "567                0.2650          0.4087                  0.12400       0  \n",
              "568                0.0000          0.2871                  0.07039       1  \n",
              "\n",
              "[569 rows x 31 columns]"
            ],
            "text/html": [
              "\n",
              "  <div id=\"df-129a5b62-0d91-40c4-9660-8506b21e96a9\">\n",
              "    <div class=\"colab-df-container\">\n",
              "      <div>\n",
              "<style scoped>\n",
              "    .dataframe tbody tr th:only-of-type {\n",
              "        vertical-align: middle;\n",
              "    }\n",
              "\n",
              "    .dataframe tbody tr th {\n",
              "        vertical-align: top;\n",
              "    }\n",
              "\n",
              "    .dataframe thead th {\n",
              "        text-align: right;\n",
              "    }\n",
              "</style>\n",
              "<table border=\"1\" class=\"dataframe\">\n",
              "  <thead>\n",
              "    <tr style=\"text-align: right;\">\n",
              "      <th></th>\n",
              "      <th>mean radius</th>\n",
              "      <th>mean texture</th>\n",
              "      <th>mean perimeter</th>\n",
              "      <th>mean area</th>\n",
              "      <th>mean smoothness</th>\n",
              "      <th>mean compactness</th>\n",
              "      <th>mean concavity</th>\n",
              "      <th>mean concave points</th>\n",
              "      <th>mean symmetry</th>\n",
              "      <th>mean fractal dimension</th>\n",
              "      <th>...</th>\n",
              "      <th>worst texture</th>\n",
              "      <th>worst perimeter</th>\n",
              "      <th>worst area</th>\n",
              "      <th>worst smoothness</th>\n",
              "      <th>worst compactness</th>\n",
              "      <th>worst concavity</th>\n",
              "      <th>worst concave points</th>\n",
              "      <th>worst symmetry</th>\n",
              "      <th>worst fractal dimension</th>\n",
              "      <th>target</th>\n",
              "    </tr>\n",
              "  </thead>\n",
              "  <tbody>\n",
              "    <tr>\n",
              "      <th>0</th>\n",
              "      <td>17.99</td>\n",
              "      <td>10.38</td>\n",
              "      <td>122.80</td>\n",
              "      <td>1001.0</td>\n",
              "      <td>0.11840</td>\n",
              "      <td>0.27760</td>\n",
              "      <td>0.30010</td>\n",
              "      <td>0.14710</td>\n",
              "      <td>0.2419</td>\n",
              "      <td>0.07871</td>\n",
              "      <td>...</td>\n",
              "      <td>17.33</td>\n",
              "      <td>184.60</td>\n",
              "      <td>2019.0</td>\n",
              "      <td>0.16220</td>\n",
              "      <td>0.66560</td>\n",
              "      <td>0.7119</td>\n",
              "      <td>0.2654</td>\n",
              "      <td>0.4601</td>\n",
              "      <td>0.11890</td>\n",
              "      <td>0</td>\n",
              "    </tr>\n",
              "    <tr>\n",
              "      <th>1</th>\n",
              "      <td>20.57</td>\n",
              "      <td>17.77</td>\n",
              "      <td>132.90</td>\n",
              "      <td>1326.0</td>\n",
              "      <td>0.08474</td>\n",
              "      <td>0.07864</td>\n",
              "      <td>0.08690</td>\n",
              "      <td>0.07017</td>\n",
              "      <td>0.1812</td>\n",
              "      <td>0.05667</td>\n",
              "      <td>...</td>\n",
              "      <td>23.41</td>\n",
              "      <td>158.80</td>\n",
              "      <td>1956.0</td>\n",
              "      <td>0.12380</td>\n",
              "      <td>0.18660</td>\n",
              "      <td>0.2416</td>\n",
              "      <td>0.1860</td>\n",
              "      <td>0.2750</td>\n",
              "      <td>0.08902</td>\n",
              "      <td>0</td>\n",
              "    </tr>\n",
              "    <tr>\n",
              "      <th>2</th>\n",
              "      <td>19.69</td>\n",
              "      <td>21.25</td>\n",
              "      <td>130.00</td>\n",
              "      <td>1203.0</td>\n",
              "      <td>0.10960</td>\n",
              "      <td>0.15990</td>\n",
              "      <td>0.19740</td>\n",
              "      <td>0.12790</td>\n",
              "      <td>0.2069</td>\n",
              "      <td>0.05999</td>\n",
              "      <td>...</td>\n",
              "      <td>25.53</td>\n",
              "      <td>152.50</td>\n",
              "      <td>1709.0</td>\n",
              "      <td>0.14440</td>\n",
              "      <td>0.42450</td>\n",
              "      <td>0.4504</td>\n",
              "      <td>0.2430</td>\n",
              "      <td>0.3613</td>\n",
              "      <td>0.08758</td>\n",
              "      <td>0</td>\n",
              "    </tr>\n",
              "    <tr>\n",
              "      <th>3</th>\n",
              "      <td>11.42</td>\n",
              "      <td>20.38</td>\n",
              "      <td>77.58</td>\n",
              "      <td>386.1</td>\n",
              "      <td>0.14250</td>\n",
              "      <td>0.28390</td>\n",
              "      <td>0.24140</td>\n",
              "      <td>0.10520</td>\n",
              "      <td>0.2597</td>\n",
              "      <td>0.09744</td>\n",
              "      <td>...</td>\n",
              "      <td>26.50</td>\n",
              "      <td>98.87</td>\n",
              "      <td>567.7</td>\n",
              "      <td>0.20980</td>\n",
              "      <td>0.86630</td>\n",
              "      <td>0.6869</td>\n",
              "      <td>0.2575</td>\n",
              "      <td>0.6638</td>\n",
              "      <td>0.17300</td>\n",
              "      <td>0</td>\n",
              "    </tr>\n",
              "    <tr>\n",
              "      <th>4</th>\n",
              "      <td>20.29</td>\n",
              "      <td>14.34</td>\n",
              "      <td>135.10</td>\n",
              "      <td>1297.0</td>\n",
              "      <td>0.10030</td>\n",
              "      <td>0.13280</td>\n",
              "      <td>0.19800</td>\n",
              "      <td>0.10430</td>\n",
              "      <td>0.1809</td>\n",
              "      <td>0.05883</td>\n",
              "      <td>...</td>\n",
              "      <td>16.67</td>\n",
              "      <td>152.20</td>\n",
              "      <td>1575.0</td>\n",
              "      <td>0.13740</td>\n",
              "      <td>0.20500</td>\n",
              "      <td>0.4000</td>\n",
              "      <td>0.1625</td>\n",
              "      <td>0.2364</td>\n",
              "      <td>0.07678</td>\n",
              "      <td>0</td>\n",
              "    </tr>\n",
              "    <tr>\n",
              "      <th>...</th>\n",
              "      <td>...</td>\n",
              "      <td>...</td>\n",
              "      <td>...</td>\n",
              "      <td>...</td>\n",
              "      <td>...</td>\n",
              "      <td>...</td>\n",
              "      <td>...</td>\n",
              "      <td>...</td>\n",
              "      <td>...</td>\n",
              "      <td>...</td>\n",
              "      <td>...</td>\n",
              "      <td>...</td>\n",
              "      <td>...</td>\n",
              "      <td>...</td>\n",
              "      <td>...</td>\n",
              "      <td>...</td>\n",
              "      <td>...</td>\n",
              "      <td>...</td>\n",
              "      <td>...</td>\n",
              "      <td>...</td>\n",
              "      <td>...</td>\n",
              "    </tr>\n",
              "    <tr>\n",
              "      <th>564</th>\n",
              "      <td>21.56</td>\n",
              "      <td>22.39</td>\n",
              "      <td>142.00</td>\n",
              "      <td>1479.0</td>\n",
              "      <td>0.11100</td>\n",
              "      <td>0.11590</td>\n",
              "      <td>0.24390</td>\n",
              "      <td>0.13890</td>\n",
              "      <td>0.1726</td>\n",
              "      <td>0.05623</td>\n",
              "      <td>...</td>\n",
              "      <td>26.40</td>\n",
              "      <td>166.10</td>\n",
              "      <td>2027.0</td>\n",
              "      <td>0.14100</td>\n",
              "      <td>0.21130</td>\n",
              "      <td>0.4107</td>\n",
              "      <td>0.2216</td>\n",
              "      <td>0.2060</td>\n",
              "      <td>0.07115</td>\n",
              "      <td>0</td>\n",
              "    </tr>\n",
              "    <tr>\n",
              "      <th>565</th>\n",
              "      <td>20.13</td>\n",
              "      <td>28.25</td>\n",
              "      <td>131.20</td>\n",
              "      <td>1261.0</td>\n",
              "      <td>0.09780</td>\n",
              "      <td>0.10340</td>\n",
              "      <td>0.14400</td>\n",
              "      <td>0.09791</td>\n",
              "      <td>0.1752</td>\n",
              "      <td>0.05533</td>\n",
              "      <td>...</td>\n",
              "      <td>38.25</td>\n",
              "      <td>155.00</td>\n",
              "      <td>1731.0</td>\n",
              "      <td>0.11660</td>\n",
              "      <td>0.19220</td>\n",
              "      <td>0.3215</td>\n",
              "      <td>0.1628</td>\n",
              "      <td>0.2572</td>\n",
              "      <td>0.06637</td>\n",
              "      <td>0</td>\n",
              "    </tr>\n",
              "    <tr>\n",
              "      <th>566</th>\n",
              "      <td>16.60</td>\n",
              "      <td>28.08</td>\n",
              "      <td>108.30</td>\n",
              "      <td>858.1</td>\n",
              "      <td>0.08455</td>\n",
              "      <td>0.10230</td>\n",
              "      <td>0.09251</td>\n",
              "      <td>0.05302</td>\n",
              "      <td>0.1590</td>\n",
              "      <td>0.05648</td>\n",
              "      <td>...</td>\n",
              "      <td>34.12</td>\n",
              "      <td>126.70</td>\n",
              "      <td>1124.0</td>\n",
              "      <td>0.11390</td>\n",
              "      <td>0.30940</td>\n",
              "      <td>0.3403</td>\n",
              "      <td>0.1418</td>\n",
              "      <td>0.2218</td>\n",
              "      <td>0.07820</td>\n",
              "      <td>0</td>\n",
              "    </tr>\n",
              "    <tr>\n",
              "      <th>567</th>\n",
              "      <td>20.60</td>\n",
              "      <td>29.33</td>\n",
              "      <td>140.10</td>\n",
              "      <td>1265.0</td>\n",
              "      <td>0.11780</td>\n",
              "      <td>0.27700</td>\n",
              "      <td>0.35140</td>\n",
              "      <td>0.15200</td>\n",
              "      <td>0.2397</td>\n",
              "      <td>0.07016</td>\n",
              "      <td>...</td>\n",
              "      <td>39.42</td>\n",
              "      <td>184.60</td>\n",
              "      <td>1821.0</td>\n",
              "      <td>0.16500</td>\n",
              "      <td>0.86810</td>\n",
              "      <td>0.9387</td>\n",
              "      <td>0.2650</td>\n",
              "      <td>0.4087</td>\n",
              "      <td>0.12400</td>\n",
              "      <td>0</td>\n",
              "    </tr>\n",
              "    <tr>\n",
              "      <th>568</th>\n",
              "      <td>7.76</td>\n",
              "      <td>24.54</td>\n",
              "      <td>47.92</td>\n",
              "      <td>181.0</td>\n",
              "      <td>0.05263</td>\n",
              "      <td>0.04362</td>\n",
              "      <td>0.00000</td>\n",
              "      <td>0.00000</td>\n",
              "      <td>0.1587</td>\n",
              "      <td>0.05884</td>\n",
              "      <td>...</td>\n",
              "      <td>30.37</td>\n",
              "      <td>59.16</td>\n",
              "      <td>268.6</td>\n",
              "      <td>0.08996</td>\n",
              "      <td>0.06444</td>\n",
              "      <td>0.0000</td>\n",
              "      <td>0.0000</td>\n",
              "      <td>0.2871</td>\n",
              "      <td>0.07039</td>\n",
              "      <td>1</td>\n",
              "    </tr>\n",
              "  </tbody>\n",
              "</table>\n",
              "<p>569 rows × 31 columns</p>\n",
              "</div>\n",
              "      <button class=\"colab-df-convert\" onclick=\"convertToInteractive('df-129a5b62-0d91-40c4-9660-8506b21e96a9')\"\n",
              "              title=\"Convert this dataframe to an interactive table.\"\n",
              "              style=\"display:none;\">\n",
              "        \n",
              "  <svg xmlns=\"http://www.w3.org/2000/svg\" height=\"24px\"viewBox=\"0 0 24 24\"\n",
              "       width=\"24px\">\n",
              "    <path d=\"M0 0h24v24H0V0z\" fill=\"none\"/>\n",
              "    <path d=\"M18.56 5.44l.94 2.06.94-2.06 2.06-.94-2.06-.94-.94-2.06-.94 2.06-2.06.94zm-11 1L8.5 8.5l.94-2.06 2.06-.94-2.06-.94L8.5 2.5l-.94 2.06-2.06.94zm10 10l.94 2.06.94-2.06 2.06-.94-2.06-.94-.94-2.06-.94 2.06-2.06.94z\"/><path d=\"M17.41 7.96l-1.37-1.37c-.4-.4-.92-.59-1.43-.59-.52 0-1.04.2-1.43.59L10.3 9.45l-7.72 7.72c-.78.78-.78 2.05 0 2.83L4 21.41c.39.39.9.59 1.41.59.51 0 1.02-.2 1.41-.59l7.78-7.78 2.81-2.81c.8-.78.8-2.07 0-2.86zM5.41 20L4 18.59l7.72-7.72 1.47 1.35L5.41 20z\"/>\n",
              "  </svg>\n",
              "      </button>\n",
              "      \n",
              "  <style>\n",
              "    .colab-df-container {\n",
              "      display:flex;\n",
              "      flex-wrap:wrap;\n",
              "      gap: 12px;\n",
              "    }\n",
              "\n",
              "    .colab-df-convert {\n",
              "      background-color: #E8F0FE;\n",
              "      border: none;\n",
              "      border-radius: 50%;\n",
              "      cursor: pointer;\n",
              "      display: none;\n",
              "      fill: #1967D2;\n",
              "      height: 32px;\n",
              "      padding: 0 0 0 0;\n",
              "      width: 32px;\n",
              "    }\n",
              "\n",
              "    .colab-df-convert:hover {\n",
              "      background-color: #E2EBFA;\n",
              "      box-shadow: 0px 1px 2px rgba(60, 64, 67, 0.3), 0px 1px 3px 1px rgba(60, 64, 67, 0.15);\n",
              "      fill: #174EA6;\n",
              "    }\n",
              "\n",
              "    [theme=dark] .colab-df-convert {\n",
              "      background-color: #3B4455;\n",
              "      fill: #D2E3FC;\n",
              "    }\n",
              "\n",
              "    [theme=dark] .colab-df-convert:hover {\n",
              "      background-color: #434B5C;\n",
              "      box-shadow: 0px 1px 3px 1px rgba(0, 0, 0, 0.15);\n",
              "      filter: drop-shadow(0px 1px 2px rgba(0, 0, 0, 0.3));\n",
              "      fill: #FFFFFF;\n",
              "    }\n",
              "  </style>\n",
              "\n",
              "      <script>\n",
              "        const buttonEl =\n",
              "          document.querySelector('#df-129a5b62-0d91-40c4-9660-8506b21e96a9 button.colab-df-convert');\n",
              "        buttonEl.style.display =\n",
              "          google.colab.kernel.accessAllowed ? 'block' : 'none';\n",
              "\n",
              "        async function convertToInteractive(key) {\n",
              "          const element = document.querySelector('#df-129a5b62-0d91-40c4-9660-8506b21e96a9');\n",
              "          const dataTable =\n",
              "            await google.colab.kernel.invokeFunction('convertToInteractive',\n",
              "                                                     [key], {});\n",
              "          if (!dataTable) return;\n",
              "\n",
              "          const docLinkHtml = 'Like what you see? Visit the ' +\n",
              "            '<a target=\"_blank\" href=https://colab.research.google.com/notebooks/data_table.ipynb>data table notebook</a>'\n",
              "            + ' to learn more about interactive tables.';\n",
              "          element.innerHTML = '';\n",
              "          dataTable['output_type'] = 'display_data';\n",
              "          await google.colab.output.renderOutput(dataTable, element);\n",
              "          const docLink = document.createElement('div');\n",
              "          docLink.innerHTML = docLinkHtml;\n",
              "          element.appendChild(docLink);\n",
              "        }\n",
              "      </script>\n",
              "    </div>\n",
              "  </div>\n",
              "  "
            ]
          },
          "metadata": {},
          "execution_count": 13
        }
      ]
    },
    {
      "cell_type": "code",
      "source": [
        "dist = df['target'].value_counts(normalize=True)\n",
        "\n",
        "print(f\"Classe 0: {dist[0]*100 : .2f} %\")\n",
        "print(f\"Classe 1:{dist[1]*100 : .2f} %\")"
      ],
      "metadata": {
        "colab": {
          "base_uri": "https://localhost:8080/"
        },
        "id": "ZDxEiy4miIKN",
        "outputId": "22874393-9409-4929-eef0-69115dd57866"
      },
      "execution_count": 16,
      "outputs": [
        {
          "output_type": "stream",
          "name": "stdout",
          "text": [
            "Classe 0:  37.26 %\n",
            "Classe 1: 62.74 %\n"
          ]
        }
      ]
    },
    {
      "cell_type": "markdown",
      "source": [
        "###Questão 2\n",
        "\n",
        "Use o classificador Vizinho Mais Próximo e uma divisão percentual com 30% dos exemplos do\n",
        "dataset breast cancer usados para teste para obter o valor da acurácia e f1 macro, f1 micro e f1\n",
        "weighted deste classificador neste dataset."
      ],
      "metadata": {
        "id": "oopssI75zGnb"
      }
    },
    {
      "cell_type": "code",
      "source": [
        "from sklearn.model_selection import train_test_split\n",
        "\n",
        "#separar a base em treino e teste\n",
        "X_train, X_test,y_train,y_test = train_test_split(cancer_X,cancer_y,\n",
        "                                        test_size=0.3, random_state=0)\n",
        "\n",
        "#print(X_train.shape, y_train.shape)\n",
        "#print(X_test.shape, y_test.shape)"
      ],
      "metadata": {
        "id": "hQAl85f168EB"
      },
      "execution_count": 4,
      "outputs": []
    },
    {
      "cell_type": "code",
      "source": [
        "from sklearn.neighbors import KNeighborsClassifier\n",
        "\n",
        "#criando o classificador\n",
        "oneNN = KNeighborsClassifier(n_neighbors=1)\n",
        "oneNN.fit(X_train,y_train)\n",
        "\n",
        "#o que deveria ser a saida\n",
        "print(y_test)\n",
        "print('\\n')\n",
        "#o que foi a saida\n",
        "y_predito = oneNN.predict(X_test)\n",
        "print(y_predito)"
      ],
      "metadata": {
        "colab": {
          "base_uri": "https://localhost:8080/"
        },
        "id": "AxRtej8b8BNN",
        "outputId": "252cc468-c3d5-40ce-fb8d-943f4a1421d0"
      },
      "execution_count": 5,
      "outputs": [
        {
          "output_type": "stream",
          "name": "stdout",
          "text": [
            "[0 1 1 1 1 1 1 1 1 1 1 1 1 1 1 0 1 0 0 0 0 0 1 1 0 1 1 0 1 0 1 0 1 0 1 0 1\n",
            " 0 1 0 0 1 0 1 1 0 1 1 1 0 0 0 0 1 1 1 1 1 1 0 0 0 1 1 0 1 0 0 0 1 1 0 1 0\n",
            " 0 1 1 1 1 1 0 0 0 1 0 1 1 1 0 0 1 0 1 0 1 1 0 1 1 1 1 1 1 1 0 1 0 1 0 0 1\n",
            " 0 0 1 1 1 1 1 1 1 1 1 0 1 0 1 1 1 1 1 0 1 1 1 1 1 1 0 0 1 1 1 0 1 1 0 1 0\n",
            " 1 1 1 1 1 1 1 0 1 0 1 0 0 1 1 0 1 0 0 0 1 1 1]\n",
            "\n",
            "\n",
            "[1 1 1 0 1 1 1 1 1 1 0 1 1 1 0 0 1 0 0 0 0 1 1 1 0 1 1 1 1 0 1 0 1 0 1 0 1\n",
            " 0 1 0 0 1 0 1 0 0 1 1 1 0 0 1 0 1 1 1 1 1 1 0 0 0 1 1 0 1 0 0 0 1 1 0 1 1\n",
            " 0 1 1 1 1 1 0 0 0 1 0 1 1 1 0 0 1 0 1 0 1 1 0 1 1 1 1 1 1 1 0 1 0 1 0 1 1\n",
            " 0 0 1 1 1 0 1 1 1 1 1 1 1 0 1 1 1 1 1 0 1 1 1 1 1 1 0 0 1 1 1 0 1 1 0 1 0\n",
            " 1 1 1 0 1 1 1 1 1 0 1 0 0 1 1 0 1 0 0 0 1 1 1]\n"
          ]
        }
      ]
    },
    {
      "cell_type": "code",
      "source": [
        "#acurácia - faz a predição e mede o quanto acertou\n",
        "print(\"acuracia - mod 1 = \", oneNN.score(X_test,y_test))\n",
        "\n",
        "from sklearn.metrics import accuracy_score, balanced_accuracy_score,f1_score\n",
        "\n",
        "#outra forma de calcular acuracia\n",
        "print(\"acuracia - mod 2 = \", accuracy_score(y_predito,y_test))\n",
        "\n",
        "#print(\"balanced accuracy score: %.2f\\n\" % balanced_accuracy_score(y_predito, y_test))\n",
        "\n",
        "\n",
        "#f1 macro\n",
        "print(\"macro: %.2f\" % f1_score(y_predito, y_test, average='macro'))\n",
        "#f1 micro \n",
        "print(\"micro: %.2f\" % f1_score(y_predito, y_test, average='micro'))\n",
        "#f1 weighted \n",
        "print(\"weighted: %.2f\\n\" % f1_score(y_predito, y_test, average='weighted'))"
      ],
      "metadata": {
        "colab": {
          "base_uri": "https://localhost:8080/"
        },
        "id": "Ix7iQfD48v_S",
        "outputId": "9868b290-1622-43bf-a81a-f53a710edf01"
      },
      "execution_count": 17,
      "outputs": [
        {
          "output_type": "stream",
          "name": "stdout",
          "text": [
            "acuracia - mod 1 =  0.9181286549707602\n",
            "acuracia - mod 2 =  0.9181286549707602\n",
            "macro: 0.91\n",
            "micro: 0.92\n",
            "weighted: 0.92\n",
            "\n"
          ]
        }
      ]
    },
    {
      "cell_type": "markdown",
      "source": [
        "###Questão 3\n",
        "\n",
        "Use o classificador Vizinho Mais Próximo e uma validação cruzada estratificada com 10 folds no\n",
        "dataset breast cancer para obter a matriz de confusão, a acurácia, o desvio padrão, o intervalo de\n",
        "confiança a 95%, a precision micro, o recall micro e a f1 macro deste classificador neste dataset."
      ],
      "metadata": {
        "id": "iZ0JIYbAzGxZ"
      }
    },
    {
      "cell_type": "code",
      "source": [
        "\n",
        "from sklearn.model_selection import cross_val_score,cross_val_predict,cross_validate\n",
        "\n",
        "scores = cross_val_score(oneNN, cancer_X,cancer_y, cv=10)\n",
        "#scores = metricas obtidas\n",
        "#print(scores)\n",
        "\n",
        "#validação cruzada escolhendo os scores a serem calculados\n",
        "scorings = ['accuracy', 'precision_micro', 'recall_micro', 'f1_macro']\n",
        "scores = cross_validate(oneNN,cancer_X,cancer_y, scoring=scorings, cv=10)\n",
        "\n",
        "#predição com 10 folds\n",
        "y_pred_10 = cross_val_predict(oneNN, cancer_X,cancer_y,cv=10)\n",
        "\n",
        "#saida real\n",
        "#print(cancer_y)\n",
        "#saida prevista\n",
        "#print(y_pred_10)\n",
        "\n",
        "from scipy import stats\n",
        "\n",
        "scores_acc = scores['test_accuracy']\n",
        "mean = scores_acc.mean()\n",
        "std = scores_acc.std()\n",
        "inf, sup = stats.norm.interval(0.95, loc=mean, \n",
        "                               scale=std/np.sqrt(len(scores_acc)))\n",
        "print(\"\\nMedia Acurácia: %0.2f Desvio Padrão: %0.2f\" % (mean, std))\n",
        "print (\"Intervalo de confiança da acurácia (95%%): (%0.2f, %0.2f)\\n\" % \n",
        "       (inf, sup))\n",
        "\n",
        "scores_prec = scores['test_precision_micro']\n",
        "mean = scores_prec.mean()\n",
        "std = scores_prec.std()\n",
        "inf, sup = stats.norm.interval(0.95, loc=mean, \n",
        "                               scale=std/np.sqrt(len(scores_prec)))\n",
        "print(\"\\nMedia Micro Precision: %0.2f Desvio Padrão: %0.2f\" % (mean, std))\n",
        "print (\"Intervalo de confiança da Micro Precision (95%%): (%0.2f, %0.2f)\\n\" % \n",
        "       (inf, sup))\n",
        "\n",
        "scores_rec = scores['test_recall_micro']\n",
        "mean = scores_rec.mean()\n",
        "std = scores_rec.std()\n",
        "inf, sup = stats.norm.interval(0.95, loc=mean, \n",
        "                               scale=std/np.sqrt(len(scores_rec)))\n",
        "print(\"\\nMedia Micro Recall: %0.2f Desvio Padrão: %0.2f\" % (mean, std))\n",
        "print (\"Intervalo de confiança Micro Recall (95%%): (%0.2f, %0.2f)\\n\" % \n",
        "       (inf, sup))\n",
        "\n",
        "scores_f1 = scores['test_f1_macro']\n",
        "mean = scores_f1.mean()\n",
        "std = scores_f1.std()\n",
        "inf, sup = stats.norm.interval(0.95, loc=mean, \n",
        "                               scale=std/np.sqrt(len(scores_f1)))\n",
        "print(\"\\nMedia Macro F1: %0.2f Desvio Padrão: %0.2f\" % (mean, std))\n",
        "print (\"Intervalo de Confiança Macro F1 (95%%): (%0.2f, %0.2f)\\n\" % \n",
        "       (inf, sup))"
      ],
      "metadata": {
        "colab": {
          "base_uri": "https://localhost:8080/"
        },
        "id": "rSO9Js9qjTBL",
        "outputId": "289209a6-f8d9-4af5-fca8-5805d890c062"
      },
      "execution_count": 44,
      "outputs": [
        {
          "output_type": "stream",
          "name": "stdout",
          "text": [
            "\n",
            "Media Acurácia: 0.92 Desvio Padrão: 0.03\n",
            "Intervalo de confiança da acurácia (95%): (0.90, 0.93)\n",
            "\n",
            "\n",
            "Media Micro Precision: 0.92 Desvio Padrão: 0.03\n",
            "Intervalo de confiança da Micro Precision (95%): (0.90, 0.93)\n",
            "\n",
            "\n",
            "Media Micro Recall: 0.92 Desvio Padrão: 0.03\n",
            "Intervalo de confiança Micro Recall (95%): (0.90, 0.93)\n",
            "\n",
            "\n",
            "Media Macro F1: 0.91 Desvio Padrão: 0.03\n",
            "Intervalo de Confiança Macro F1 (95%): (0.89, 0.93)\n",
            "\n"
          ]
        }
      ]
    },
    {
      "cell_type": "code",
      "source": [
        "from sklearn.metrics import confusion_matrix, ConfusionMatrixDisplay\n",
        "\n",
        "matriz_conf = confusion_matrix(cancer_y,y_pred_10)\n",
        "print(matriz_conf)\n",
        "\n",
        "#impressão gráfica\n",
        "disp = ConfusionMatrixDisplay(matriz_conf, display_labels=oneNN.classes_).plot()"
      ],
      "metadata": {
        "colab": {
          "base_uri": "https://localhost:8080/",
          "height": 484
        },
        "id": "BS6qWQ0TmAUo",
        "outputId": "89e217ac-d287-4ed1-d270-57c92a3378e7"
      },
      "execution_count": 45,
      "outputs": [
        {
          "output_type": "stream",
          "name": "stdout",
          "text": [
            "[[182  30]\n",
            " [ 18 339]]\n"
          ]
        },
        {
          "output_type": "display_data",
          "data": {
            "text/plain": [
              "<Figure size 640x480 with 2 Axes>"
            ],
            "image/png": "[encoded data removed]"
          },
          "metadata": {}
        }
      ]
    },
    {
      "cell_type": "markdown",
      "source": [
        "###Questão 4\n",
        "\n",
        "Use o classificador K Vizinhos Mais Próximos com o método de validação cruzada com busca\n",
        "em grade (use 10 partições) no dataset breast cancer para realizar a busca pelo melhor valor de K.\n",
        "Apresente a melhor acurácia obtida, o desvio padrão, o intervalo de confiança a 95% e o valor de K\n",
        "correspondente.\n",
        "\n"
      ],
      "metadata": {
        "id": "F4O0X7K_zG6V"
      }
    },
    {
      "cell_type": "code",
      "source": [
        "from sklearn.model_selection import GridSearchCV\n",
        "\n",
        "kNN = KNeighborsClassifier()\n",
        "\n",
        "#vamos testar com os hiperparâmetros de 1,3 e 5 vizinhos mais prox\n",
        "grade = {'n_neighbors' : list(range(1,10))}\n",
        "\n",
        "gs = GridSearchCV(estimator = kNN, param_grid = grade,\n",
        "                  scoring = 'accuracy', cv = 10)\n",
        "\n",
        "gs = gs.fit(cancer_X,cancer_y)\n",
        "\n",
        "print(\"Best Parameter Values: \", gs.best_params_)\n",
        "print(\"Best Mean Accuracy: %0.2f\" % gs.best_score_)\n",
        "\n",
        "#não entendi mt bem essa parte final\n",
        "\n",
        "best = gs.best_params_['n_neighbors'] - 1\n",
        "\n",
        "\n",
        "scores = np.array ([gs.cv_results_['split0_test_score'][best], \n",
        "                      gs.cv_results_['split1_test_score'][best], \n",
        "                      gs.cv_results_['split2_test_score'][best], \n",
        "                      gs.cv_results_['split3_test_score'][best], \n",
        "                      gs.cv_results_['split4_test_score'][best], \n",
        "                      gs.cv_results_['split5_test_score'][best], \n",
        "                      gs.cv_results_['split6_test_score'][best], \n",
        "                      gs.cv_results_['split7_test_score'][best], \n",
        "                      gs.cv_results_['split8_test_score'][best], \n",
        "                      gs.cv_results_['split9_test_score'][best]])\n",
        "\n",
        "\n",
        "mean = scores.mean()\n",
        "std = scores.std()\n",
        "inf, sup = stats.norm.interval(0.95, loc=mean, \n",
        "                               scale=std/np.sqrt(len(scores)))\n",
        "\n",
        "print(\"\\nMean Accuracy: %0.2f Standard Deviation: %0.2f\" % (mean, std))\n",
        "print (\"Accuracy Confidence Interval (95%%): (%0.2f, %0.2f)\\n\" % (inf, sup)) "
      ],
      "metadata": {
        "colab": {
          "base_uri": "https://localhost:8080/"
        },
        "id": "3WJg7cNbtX_s",
        "outputId": "5a97858e-6a75-40f9-844e-f94071bfc210"
      },
      "execution_count": 60,
      "outputs": [
        {
          "output_type": "stream",
          "name": "stdout",
          "text": [
            "Best Parameter Values:  {'n_neighbors': 8}\n",
            "Best Mean Accuracy: 0.93\n",
            "\n",
            "Mean Accuracy: 0.93 Standard Deviation: 0.03\n",
            "Accuracy Confidence Interval (95%): (0.91, 0.95)\n",
            "\n"
          ]
        }
      ]
    },
    {
      "cell_type": "markdown",
      "source": [
        "###Questão 5\n",
        "\n",
        "Use o classificador K Vizinhos Mais Próximos no dataset breast cancer para obter seu\n",
        "desempenho estimando o melhor valor de K em cada partição da validação cruzada com 10\n",
        "partições mas sem possibilidade de superajuste. Repita o procedimento por 3 vezes. Apresente a\n",
        "melhor acurácia obtida, o desvio padrão e o intervalo de confiança a 95%."
      ],
      "metadata": {
        "id": "2gIhiykmzHKa"
      }
    },
    {
      "cell_type": "code",
      "source": [
        "from sklearn.model_selection import RepeatedStratifiedKFold\n",
        "\n",
        "\n",
        "gs = GridSearchCV(estimator = kNN, param_grid = grade,\n",
        "                  scoring = 'accuracy', cv = 10)\n",
        "\n",
        "#repetir 3x o procedimento - dividirá os 10 folds de maneira diferente\n",
        "rkf = RepeatedStratifiedKFold (n_splits = 10, n_repeats=3)\n",
        "\n",
        "scores = cross_val_score(gs,cancer_X,cancer_y,\n",
        "                         scoring='accuracy', cv =rkf)\n",
        "\n",
        "#print(scores)\n",
        "\n",
        "mean = scores.mean()\n",
        "std = scores.std()\n",
        "inf, sup = stats.norm.interval(0.95, loc=mean, \n",
        "                               scale=std/np.sqrt(len(scores)))\n",
        "\n",
        "\n",
        "print(\"\\nMean Accuracy: %0.2f Standard Deviation: %0.2f\" % (mean, std))\n",
        "print (\"Accuracy Confidence Interval (95%%): (%0.2f, %0.2f)\\n\" % \n",
        "       (inf, sup)) \n"
      ],
      "metadata": {
        "colab": {
          "base_uri": "https://localhost:8080/"
        },
        "id": "7dhJpA7w1z3f",
        "outputId": "78ff52c1-a28b-4bc0-dc2e-ebea3be329f4"
      },
      "execution_count": 65,
      "outputs": [
        {
          "output_type": "stream",
          "name": "stdout",
          "text": [
            "\n",
            "Mean Accuracy: 0.93 Standard Deviation: 0.03\n",
            "Accuracy Confidence Interval (95%): (0.92, 0.94)\n",
            "\n"
          ]
        }
      ]
    },
    {
      "cell_type": "markdown",
      "source": [
        "###Questão 6\n",
        "\n",
        "Repita o procedimento proposto no exercício 5 somente trocando o classificador para uma\n",
        "Árvore de Decisão. Compare o desempenho obtido pelo K Vizinhos Mais Próximos com a Árvore\n",
        "de Decisão utilizando o teste T e o de Wilcoxon."
      ],
      "metadata": {
        "id": "Jm8mb1tPzHSI"
      }
    },
    {
      "cell_type": "code",
      "source": [
        "from sklearn.tree import DecisionTreeClassifier\n",
        "\n",
        "dT = DecisionTreeClassifier()\n",
        "\n",
        "              # profundidade max ,  num min de amostras para dividir um nó\n",
        "parameters = {'max_depth': [2, 3], 'min_samples_split': [2, 4]}\n",
        "\n",
        "\n",
        "gs = GridSearchCV(estimator = dT, param_grid = parameters,\n",
        "                  scoring = 'accuracy', cv = 10)\n",
        "\n",
        "#repetir 3x o procedimento - dividirá os 10 folds de maneira diferente\n",
        "rkf = RepeatedStratifiedKFold (n_splits = 10, n_repeats=3)\n",
        "\n",
        "dTscores = cross_val_score(gs,cancer_X,cancer_y,\n",
        "                         scoring='accuracy', cv =rkf)\n",
        "\n",
        "#print(dTscores)\n",
        "\n",
        "mean = dTscores.mean()\n",
        "std = dTscores.std()\n",
        "inf, sup = stats.norm.interval(0.95, loc=mean, \n",
        "                               scale=std/np.sqrt(len(dTscores)))\n",
        "\n",
        "\n",
        "print(\"\\nMean Accuracy: %0.2f Standard Deviation: %0.2f\" % (mean, std))\n",
        "print (\"Accuracy Confidence Interval (95%%): (%0.2f, %0.2f)\\n\" % \n",
        "       (inf, sup)) "
      ],
      "metadata": {
        "colab": {
          "base_uri": "https://localhost:8080/"
        },
        "id": "HU9NY8DL4mas",
        "outputId": "8a4902fc-801f-4812-9253-27a44d2f595c"
      },
      "execution_count": 67,
      "outputs": [
        {
          "output_type": "stream",
          "name": "stdout",
          "text": [
            "\n",
            "Mean Accuracy: 0.92 Standard Deviation: 0.03\n",
            "Accuracy Confidence Interval (95%): (0.91, 0.93)\n",
            "\n"
          ]
        }
      ]
    },
    {
      "cell_type": "code",
      "source": [
        "from scipy.stats import ttest_rel,wilcoxon\n",
        "\n",
        "print(\"teste T\")\n",
        "s,p = ttest_rel(scores,dTscores)\n",
        "print(\"t: %0.2f p-value: %0.2f\\n\" % (s,p))\n",
        "\n",
        "print(\"teste Wilcoxon\")\n",
        "s,p = wilcoxon (scores,dTscores)\n",
        "print(\"w: %0.2f p-value: %0.2f\\n\" % (s,p))"
      ],
      "metadata": {
        "colab": {
          "base_uri": "https://localhost:8080/"
        },
        "id": "aos5QQ6g6jzP",
        "outputId": "0ac9d85c-ea5d-4a4a-fb8f-bfc2e0737383"
      },
      "execution_count": 70,
      "outputs": [
        {
          "output_type": "stream",
          "name": "stdout",
          "text": [
            "teste T\n",
            "t: 1.51 p-value: 0.14\n",
            "\n",
            "teste Wilcoxon\n",
            "w: 111.50 p-value: 0.10\n",
            "\n"
          ]
        }
      ]
    }
  ]
}