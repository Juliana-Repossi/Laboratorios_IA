{
  "nbformat": 4,
  "nbformat_minor": 0,
  "metadata": {
    "colab": {
      "provenance": []
    },
    "kernelspec": {
      "name": "python3",
      "display_name": "Python 3"
    },
    "language_info": {
      "name": "python"
    }
  },
  "cells": [
    {
      "cell_type": "markdown",
      "source": [
        "#Laboratório 4\n",
        "\n",
        "###Questão 1\n",
        "\n",
        "Carregue a base iris e a separe em treino e teste usando 40% dos exemplos para teste. Reduza a\n",
        "base de treino para ter apenas os 24 exemplos iniciais e a de teste para ter apenas os 16 exemplos\n",
        "iniciais. Considere que o valor 1.5 representa um elemento ausente. Substitua as ocorrências de\n",
        "valores ausentes pelo valor mais frequente nas bases de treino e de teste reduzidas."
      ],
      "metadata": {
        "id": "mqmlcTtYe5W2"
      }
    },
    {
      "cell_type": "code",
      "source": [
        "from sklearn import datasets\n",
        "\n",
        "iris = datasets.load_iris()\n",
        "iris_X = iris.data\n",
        "iris_y = iris.target\n",
        "\n",
        "from sklearn.model_selection import train_test_split\n",
        "\n",
        "X_train,X_test,y_train,y_test = train_test_split(\n",
        "    iris_X,iris_y,test_size=0.4,random_state=0)\n",
        "\n",
        "X_train = X_train[:24]\n",
        "y_train = y_train[:24]\n",
        "\n",
        "X_test = X_test[:16]\n",
        "y_test = y_test[:16]\n",
        "\n",
        "#print(X_train)"
      ],
      "metadata": {
        "id": "m70W8_ZifpzW"
      },
      "execution_count": 8,
      "outputs": []
    },
    {
      "cell_type": "code",
      "source": [
        "from sklearn.impute import SimpleImputer\n",
        "\n",
        "imp_x_train = SimpleImputer(missing_values=1.5, strategy='most_frequent')\n",
        "#print(X_train)\n",
        "new_X_train = imp_x_train.fit_transform(X_train)\n",
        "#print('\\n')\n",
        "#print(new_X_train)"
      ],
      "metadata": {
        "id": "sqqnCI1Oh2zN"
      },
      "execution_count": 9,
      "outputs": []
    },
    {
      "cell_type": "markdown",
      "source": [
        "###Questão 2\n",
        "\n",
        "Utilize agora os mesmos valores mais frequentes usados na base de treino na base de teste do\n",
        "exercício 1."
      ],
      "metadata": {
        "id": "0S7kxKjRfCU5"
      }
    },
    {
      "cell_type": "code",
      "source": [
        "#print(X_test)\n",
        "new_X_test = imp_x_train.transform(X_test)\n",
        "#print('\\n')\n",
        "#print(new_X_test)"
      ],
      "metadata": {
        "id": "2YSHju9Rh10E"
      },
      "execution_count": 10,
      "outputs": []
    },
    {
      "cell_type": "markdown",
      "source": [
        "###Questão 3\n",
        "\n",
        "Padronize a base de treino do exercício 1 e utilize os mesmos fatores de normalização para\n",
        "padronizar a base de teste."
      ],
      "metadata": {
        "id": "MSgBDPmcfCa1"
      }
    },
    {
      "cell_type": "code",
      "source": [
        "from sklearn.preprocessing import StandardScaler\n",
        "\n",
        "#Padronizar - colocar entre 0 e 1\n",
        "scaler = StandardScaler()\n",
        "scaler.fit(X_train)\n",
        "X_train_norm = scaler.transform(X_train)\n",
        "print(X_train_norm)\n",
        "\n",
        "X_test_norm = scaler.transform(X_test)\n",
        "\n",
        "print('\\n')\n",
        "print(X_test_norm)"
      ],
      "metadata": {
        "id": "tKW7WitHrmje",
        "colab": {
          "base_uri": "https://localhost:8080/"
        },
        "outputId": "700520e6-30ce-4788-af2a-d89fac2a43f1"
      },
      "execution_count": 17,
      "outputs": [
        {
          "output_type": "stream",
          "name": "stdout",
          "text": [
            "[[ 0.33603962  0.76296356  0.52477983  0.64940905]\n",
            " [-1.15287438  0.08477373 -1.20624749 -1.2988181 ]\n",
            " [ 0.08788728 -0.81947938  0.88292342  1.0668863 ]\n",
            " [-0.16026505 -0.81947938  0.34570804  0.2319318 ]\n",
            " [-0.16026505 -0.36735282 -0.01243554  0.2319318 ]\n",
            " [-0.28434121 -1.27160593  0.22632685  0.2319318 ]\n",
            " [ 0.46011578 -0.14128955  0.58447043  0.37109089]\n",
            " [ 1.82495362  0.310837    1.42013879  0.92772721]\n",
            " [-0.53249355  1.44115338 -1.26593808 -1.2988181 ]\n",
            " [-1.77325521 -0.14128955 -1.50470047 -1.43797718]\n",
            " [ 0.83234428 -0.81947938  1.00230461  1.0668863 ]\n",
            " [-0.03618888 -0.14128955  0.34570804  0.09277272]\n",
            " [-0.40841738  0.76296356 -1.14655689 -1.2988181 ]\n",
            " [-0.03618888  3.02359632 -1.26593808 -1.02049994]\n",
            " [ 1.45272512  0.08477373  0.76354222  0.51024997]\n",
            " [-1.40102671  0.08477373 -1.26593808 -1.2988181 ]\n",
            " [ 0.21196345 -0.14128955  0.88292342  0.92772721]\n",
            " [-0.78064588 -1.27160593 -0.37057912 -0.04638636]\n",
            " [-1.40102671  0.76296356 -1.32562868 -1.15965902]\n",
            " [ 0.58419195 -1.94979576  0.52477983  0.51024997]\n",
            " [ 1.82495362  1.21509011  1.47982939  1.90184079]\n",
            " [-0.03618888 -0.36735282  0.34570804  0.2319318 ]\n",
            " [-1.15287438 -0.14128955 -1.32562868 -1.43797718]\n",
            " [ 1.70087745 -0.14128955  1.3604482   1.34520446]]\n",
            "\n",
            "\n",
            "[[ 0.08788728 -0.5934161   0.88292342  1.76268171]\n",
            " [ 0.33603962 -1.94979576  0.22632685 -0.18554544]\n",
            " [-0.28434121  2.57146976 -1.32562868 -1.2988181 ]\n",
            " [ 1.94902978 -0.36735282  1.59921059  0.92772721]\n",
            " [-0.90472205  0.76296356 -1.26593808 -1.2988181 ]\n",
            " [ 0.70826812  0.53690028  1.42013879  1.90184079]\n",
            " [-0.90472205  0.98902683 -1.38531928 -1.15965902]\n",
            " [ 1.20457278  0.08477373  0.64416103  0.51024997]\n",
            " [ 1.32864895 -0.5934161   0.70385163  0.37109089]\n",
            " [ 0.46011578 -0.5934161   0.22632685  0.2319318 ]\n",
            " [ 0.46011578 -1.04554265  1.18137641  0.37109089]\n",
            " [ 0.83234428  0.310837    0.52477983  0.51024997]\n",
            " [ 0.46011578 -0.5934161   0.64416103  0.09277272]\n",
            " [ 0.95642045 -0.5934161   0.58447043  0.51024997]\n",
            " [ 0.46011578 -0.36735282  0.64416103  0.37109089]\n",
            " [-1.02879821  1.21509011 -1.32562868 -1.43797718]]\n"
          ]
        }
      ]
    },
    {
      "cell_type": "markdown",
      "source": [
        "###Questão 4\n",
        "\n",
        "Discretize a base Z_Train usando a estratégia de igual frequência nos intervalos e utilize os\n",
        "mesmos intervalos para discretizar a base Z_Test. Repita depois usando a estratégia de igual\n",
        "tamanho dos intervalos. Atenção: crie novas bases para não alterar a definição original de Z_Train e\n",
        "Z_Test."
      ],
      "metadata": {
        "id": "33v-fTaTfChD"
      }
    },
    {
      "cell_type": "code",
      "source": [
        "#outra técnica - Discretizar - colocar em valores discretos\n",
        "\n",
        "from sklearn.preprocessing import KBinsDiscretizer\n",
        "\n",
        "est = KBinsDiscretizer(encode='ordinal')\n",
        "\n",
        "X_train_disc = est.fit_transform(X_train)\n",
        "\n",
        "print(X_train_disc)\n",
        "\n",
        "X_test_disc = est.transform(X_test)\n",
        "\n",
        "print('\\n')\n",
        "print(X_test_disc)\n",
        "\n"
      ],
      "metadata": {
        "colab": {
          "base_uri": "https://localhost:8080/"
        },
        "id": "y3TL5lll5NFi",
        "outputId": "4f9599ce-46c6-40e2-923f-8d58117a62cd"
      },
      "execution_count": 21,
      "outputs": [
        {
          "output_type": "stream",
          "name": "stdout",
          "text": [
            "[[3. 4. 3. 3.]\n",
            " [0. 3. 1. 1.]\n",
            " [3. 1. 4. 4.]\n",
            " [2. 1. 2. 2.]\n",
            " [2. 1. 1. 2.]\n",
            " [1. 0. 2. 2.]\n",
            " [3. 2. 3. 3.]\n",
            " [4. 3. 4. 4.]\n",
            " [1. 4. 1. 1.]\n",
            " [0. 2. 0. 0.]\n",
            " [4. 1. 4. 4.]\n",
            " [2. 2. 2. 1.]\n",
            " [1. 4. 1. 1.]\n",
            " [2. 4. 1. 1.]\n",
            " [4. 3. 3. 3.]\n",
            " [0. 3. 1. 1.]\n",
            " [3. 2. 4. 4.]\n",
            " [1. 0. 1. 1.]\n",
            " [0. 4. 0. 1.]\n",
            " [3. 0. 3. 3.]\n",
            " [4. 4. 4. 4.]\n",
            " [2. 1. 2. 2.]\n",
            " [0. 2. 0. 0.]\n",
            " [4. 2. 4. 4.]]\n",
            "\n",
            "\n",
            "[[3. 1. 4. 4.]\n",
            " [3. 0. 2. 1.]\n",
            " [1. 4. 0. 1.]\n",
            " [4. 1. 4. 4.]\n",
            " [1. 4. 1. 1.]\n",
            " [4. 3. 4. 4.]\n",
            " [1. 4. 0. 1.]\n",
            " [4. 3. 3. 3.]\n",
            " [4. 1. 3. 3.]\n",
            " [3. 1. 2. 2.]\n",
            " [3. 0. 4. 3.]\n",
            " [4. 3. 3. 3.]\n",
            " [3. 1. 3. 1.]\n",
            " [4. 1. 3. 3.]\n",
            " [3. 1. 3. 3.]\n",
            " [0. 4. 0. 0.]]\n"
          ]
        }
      ]
    },
    {
      "cell_type": "markdown",
      "source": [
        "###Questão 5\n",
        "\n",
        "Leia a base de dados breast cancer e execute 3 rodadas de validação cruzada aninhada\n",
        "estratificada, porém use padronização em todas as características da base. Use o classificador KNN\n",
        "com k = {1, 3, 5}. Apresente a acurácia obtida em cada fold de teste, assim como a média da\n",
        "acurácia, desvio padrão e intervalo de confiança."
      ],
      "metadata": {
        "id": "4UlNKJh4fCom"
      }
    },
    {
      "cell_type": "code",
      "source": [
        "from sklearn import datasets\n",
        "from sklearn.model_selection import RepeatedStratifiedKFold\n",
        "from sklearn.model_selection import GridSearchCV\n",
        "from sklearn.model_selection import cross_val_score,cross_val_predict,cross_validate\n",
        "from sklearn.neighbors import KNeighborsClassifier\n",
        "from scipy import stats\n",
        "import numpy as np\n",
        "from sklearn.preprocessing import StandardScaler\n",
        "from sklearn.pipeline import Pipeline\n",
        "\n",
        "\n",
        "cancer = datasets.load_breast_cancer()\n",
        "\n",
        "scalar = StandardScaler()\n",
        "\n",
        "kNN = KNeighborsClassifier()\n",
        "\n",
        "pipeline = Pipeline([('transformer',scalar),('estimator',kNN)])\n",
        "\n",
        "grade = {'estimator__n_neighbors': [1,3,5]}\n",
        "\n",
        "gs = GridSearchCV(estimator = pipeline, param_grid = grade,\n",
        "                  scoring = 'accuracy', cv = 4)\n",
        "\n",
        "#repetir 3x o procedimento - dividirá os 10 folds de maneira diferente\n",
        "rkf = RepeatedStratifiedKFold (n_splits = 10, n_repeats=3)\n",
        "\n",
        "scores = cross_val_score(gs,cancer.data,cancer.target,\n",
        "                         scoring='accuracy', cv = rkf)\n",
        "\n",
        "#acurácia obtida em cada fold de teste\n",
        "print(scores)\n",
        "\n",
        "mean = scores.mean()\n",
        "std = scores.std()\n",
        "inf, sup = stats.norm.interval(0.95, loc=mean, \n",
        "                               scale=std/np.sqrt(len(scores)))\n",
        "\n",
        "\n",
        "print(\"\\nMean Accuracy: %0.2f Standard Deviation: %0.2f\" % (mean, std))\n",
        "print (\"Accuracy Confidence Interval (95%%): (%0.2f, %0.2f)\\n\" % \n",
        "       (inf, sup)) \n"
      ],
      "metadata": {
        "colab": {
          "base_uri": "https://localhost:8080/"
        },
        "id": "YKtcqmKs6Y9F",
        "outputId": "666865b3-a1f6-4f5f-ef20-fa65358ba64b"
      },
      "execution_count": 38,
      "outputs": [
        {
          "output_type": "stream",
          "name": "stdout",
          "text": [
            "[1.         0.92982456 0.96491228 0.96491228 1.         0.94736842\n",
            " 0.9122807  0.94736842 0.96491228 1.         0.98245614 0.94736842\n",
            " 1.         0.92982456 0.98245614 0.9122807  0.92982456 0.98245614\n",
            " 0.92982456 0.98214286 1.         0.9122807  0.98245614 1.\n",
            " 0.9122807  0.96491228 0.96491228 0.98245614 1.         0.98214286]\n",
            "\n",
            "Mean Accuracy: 0.96 Standard Deviation: 0.03\n",
            "Accuracy Confidence Interval (95%): (0.95, 0.97)\n",
            "\n"
          ]
        }
      ]
    },
    {
      "cell_type": "markdown",
      "source": [
        "###Questão 6\n",
        "\n",
        "Crie um dataset com 5 exemplos com dados nominais para condições do dia com temperatura\n",
        "(baixa, média e alta), aparência (ensolarado, nublado, chuvoso) e vento (pouco, muito). Transforme\n",
        "os dados de temperatura e vento para o formato ordinal e o de aparência para o formato binário.\n"
      ],
      "metadata": {
        "id": "WyES-YcbfCwE"
      }
    },
    {
      "cell_type": "code",
      "source": [
        "import pandas as pd\n",
        "\n",
        "data = {\n",
        "    'temperatura' : ['baixa','alta','média','baixa','média'],\n",
        "    'aparencia': ['nublado','nublado','chuvoso','chuvoso','ensolarado'],\n",
        "    'vento': ['muito','pouco','pouco','pouco','muito']\n",
        "}\n",
        "\n",
        "df = pd.DataFrame(data)\n",
        "df\n"
      ],
      "metadata": {
        "colab": {
          "base_uri": "https://localhost:8080/",
          "height": 206
        },
        "id": "g-JpQK-VCrMw",
        "outputId": "64879957-facc-4cce-d67f-96b551c324ab"
      },
      "execution_count": 62,
      "outputs": [
        {
          "output_type": "execute_result",
          "data": {
            "text/plain": [
              "  temperatura   aparencia  vento\n",
              "0       baixa     nublado  muito\n",
              "1        alta     nublado  pouco\n",
              "2       média     chuvoso  pouco\n",
              "3       baixa     chuvoso  pouco\n",
              "4       média  ensolarado  muito"
            ],
            "text/html": [
              "\n",
              "  <div id=\"df-e10878a9-d962-4be3-9d7c-30d809f19d37\">\n",
              "    <div class=\"colab-df-container\">\n",
              "      <div>\n",
              "<style scoped>\n",
              "    .dataframe tbody tr th:only-of-type {\n",
              "        vertical-align: middle;\n",
              "    }\n",
              "\n",
              "    .dataframe tbody tr th {\n",
              "        vertical-align: top;\n",
              "    }\n",
              "\n",
              "    .dataframe thead th {\n",
              "        text-align: right;\n",
              "    }\n",
              "</style>\n",
              "<table border=\"1\" class=\"dataframe\">\n",
              "  <thead>\n",
              "    <tr style=\"text-align: right;\">\n",
              "      <th></th>\n",
              "      <th>temperatura</th>\n",
              "      <th>aparencia</th>\n",
              "      <th>vento</th>\n",
              "    </tr>\n",
              "  </thead>\n",
              "  <tbody>\n",
              "    <tr>\n",
              "      <th>0</th>\n",
              "      <td>baixa</td>\n",
              "      <td>nublado</td>\n",
              "      <td>muito</td>\n",
              "    </tr>\n",
              "    <tr>\n",
              "      <th>1</th>\n",
              "      <td>alta</td>\n",
              "      <td>nublado</td>\n",
              "      <td>pouco</td>\n",
              "    </tr>\n",
              "    <tr>\n",
              "      <th>2</th>\n",
              "      <td>média</td>\n",
              "      <td>chuvoso</td>\n",
              "      <td>pouco</td>\n",
              "    </tr>\n",
              "    <tr>\n",
              "      <th>3</th>\n",
              "      <td>baixa</td>\n",
              "      <td>chuvoso</td>\n",
              "      <td>pouco</td>\n",
              "    </tr>\n",
              "    <tr>\n",
              "      <th>4</th>\n",
              "      <td>média</td>\n",
              "      <td>ensolarado</td>\n",
              "      <td>muito</td>\n",
              "    </tr>\n",
              "  </tbody>\n",
              "</table>\n",
              "</div>\n",
              "      <button class=\"colab-df-convert\" onclick=\"convertToInteractive('df-e10878a9-d962-4be3-9d7c-30d809f19d37')\"\n",
              "              title=\"Convert this dataframe to an interactive table.\"\n",
              "              style=\"display:none;\">\n",
              "        \n",
              "  <svg xmlns=\"http://www.w3.org/2000/svg\" height=\"24px\"viewBox=\"0 0 24 24\"\n",
              "       width=\"24px\">\n",
              "    <path d=\"M0 0h24v24H0V0z\" fill=\"none\"/>\n",
              "    <path d=\"M18.56 5.44l.94 2.06.94-2.06 2.06-.94-2.06-.94-.94-2.06-.94 2.06-2.06.94zm-11 1L8.5 8.5l.94-2.06 2.06-.94-2.06-.94L8.5 2.5l-.94 2.06-2.06.94zm10 10l.94 2.06.94-2.06 2.06-.94-2.06-.94-.94-2.06-.94 2.06-2.06.94z\"/><path d=\"M17.41 7.96l-1.37-1.37c-.4-.4-.92-.59-1.43-.59-.52 0-1.04.2-1.43.59L10.3 9.45l-7.72 7.72c-.78.78-.78 2.05 0 2.83L4 21.41c.39.39.9.59 1.41.59.51 0 1.02-.2 1.41-.59l7.78-7.78 2.81-2.81c.8-.78.8-2.07 0-2.86zM5.41 20L4 18.59l7.72-7.72 1.47 1.35L5.41 20z\"/>\n",
              "  </svg>\n",
              "      </button>\n",
              "      \n",
              "  <style>\n",
              "    .colab-df-container {\n",
              "      display:flex;\n",
              "      flex-wrap:wrap;\n",
              "      gap: 12px;\n",
              "    }\n",
              "\n",
              "    .colab-df-convert {\n",
              "      background-color: #E8F0FE;\n",
              "      border: none;\n",
              "      border-radius: 50%;\n",
              "      cursor: pointer;\n",
              "      display: none;\n",
              "      fill: #1967D2;\n",
              "      height: 32px;\n",
              "      padding: 0 0 0 0;\n",
              "      width: 32px;\n",
              "    }\n",
              "\n",
              "    .colab-df-convert:hover {\n",
              "      background-color: #E2EBFA;\n",
              "      box-shadow: 0px 1px 2px rgba(60, 64, 67, 0.3), 0px 1px 3px 1px rgba(60, 64, 67, 0.15);\n",
              "      fill: #174EA6;\n",
              "    }\n",
              "\n",
              "    [theme=dark] .colab-df-convert {\n",
              "      background-color: #3B4455;\n",
              "      fill: #D2E3FC;\n",
              "    }\n",
              "\n",
              "    [theme=dark] .colab-df-convert:hover {\n",
              "      background-color: #434B5C;\n",
              "      box-shadow: 0px 1px 3px 1px rgba(0, 0, 0, 0.15);\n",
              "      filter: drop-shadow(0px 1px 2px rgba(0, 0, 0, 0.3));\n",
              "      fill: #FFFFFF;\n",
              "    }\n",
              "  </style>\n",
              "\n",
              "      <script>\n",
              "        const buttonEl =\n",
              "          document.querySelector('#df-e10878a9-d962-4be3-9d7c-30d809f19d37 button.colab-df-convert');\n",
              "        buttonEl.style.display =\n",
              "          google.colab.kernel.accessAllowed ? 'block' : 'none';\n",
              "\n",
              "        async function convertToInteractive(key) {\n",
              "          const element = document.querySelector('#df-e10878a9-d962-4be3-9d7c-30d809f19d37');\n",
              "          const dataTable =\n",
              "            await google.colab.kernel.invokeFunction('convertToInteractive',\n",
              "                                                     [key], {});\n",
              "          if (!dataTable) return;\n",
              "\n",
              "          const docLinkHtml = 'Like what you see? Visit the ' +\n",
              "            '<a target=\"_blank\" href=https://colab.research.google.com/notebooks/data_table.ipynb>data table notebook</a>'\n",
              "            + ' to learn more about interactive tables.';\n",
              "          element.innerHTML = '';\n",
              "          dataTable['output_type'] = 'display_data';\n",
              "          await google.colab.output.renderOutput(dataTable, element);\n",
              "          const docLink = document.createElement('div');\n",
              "          docLink.innerHTML = docLinkHtml;\n",
              "          element.appendChild(docLink);\n",
              "        }\n",
              "      </script>\n",
              "    </div>\n",
              "  </div>\n",
              "  "
            ]
          },
          "metadata": {},
          "execution_count": 62
        }
      ]
    },
    {
      "cell_type": "code",
      "source": [
        "#temperatura e vento para o formato ordinal\n",
        "\n",
        "temp_map = {'alta': 2,'média': 1,'baixa': 0}\n",
        "\n",
        "df['temperatura'] = df['temperatura'].map(temp_map)\n",
        "\n",
        "vento_map = {'muito': 1,'pouco': 0}\n",
        "\n",
        "df['vento'] = df['vento'].map(vento_map)\n",
        "\n",
        "df"
      ],
      "metadata": {
        "colab": {
          "base_uri": "https://localhost:8080/",
          "height": 206
        },
        "id": "Bl809C5UDUf7",
        "outputId": "2256d75f-7241-4532-eba4-b89b2b5c78ec"
      },
      "execution_count": 63,
      "outputs": [
        {
          "output_type": "execute_result",
          "data": {
            "text/plain": [
              "   temperatura   aparencia  vento\n",
              "0            0     nublado      1\n",
              "1            2     nublado      0\n",
              "2            1     chuvoso      0\n",
              "3            0     chuvoso      0\n",
              "4            1  ensolarado      1"
            ],
            "text/html": [
              "\n",
              "  <div id=\"df-afb02d52-7b5e-425d-8cf4-36f420475d1c\">\n",
              "    <div class=\"colab-df-container\">\n",
              "      <div>\n",
              "<style scoped>\n",
              "    .dataframe tbody tr th:only-of-type {\n",
              "        vertical-align: middle;\n",
              "    }\n",
              "\n",
              "    .dataframe tbody tr th {\n",
              "        vertical-align: top;\n",
              "    }\n",
              "\n",
              "    .dataframe thead th {\n",
              "        text-align: right;\n",
              "    }\n",
              "</style>\n",
              "<table border=\"1\" class=\"dataframe\">\n",
              "  <thead>\n",
              "    <tr style=\"text-align: right;\">\n",
              "      <th></th>\n",
              "      <th>temperatura</th>\n",
              "      <th>aparencia</th>\n",
              "      <th>vento</th>\n",
              "    </tr>\n",
              "  </thead>\n",
              "  <tbody>\n",
              "    <tr>\n",
              "      <th>0</th>\n",
              "      <td>0</td>\n",
              "      <td>nublado</td>\n",
              "      <td>1</td>\n",
              "    </tr>\n",
              "    <tr>\n",
              "      <th>1</th>\n",
              "      <td>2</td>\n",
              "      <td>nublado</td>\n",
              "      <td>0</td>\n",
              "    </tr>\n",
              "    <tr>\n",
              "      <th>2</th>\n",
              "      <td>1</td>\n",
              "      <td>chuvoso</td>\n",
              "      <td>0</td>\n",
              "    </tr>\n",
              "    <tr>\n",
              "      <th>3</th>\n",
              "      <td>0</td>\n",
              "      <td>chuvoso</td>\n",
              "      <td>0</td>\n",
              "    </tr>\n",
              "    <tr>\n",
              "      <th>4</th>\n",
              "      <td>1</td>\n",
              "      <td>ensolarado</td>\n",
              "      <td>1</td>\n",
              "    </tr>\n",
              "  </tbody>\n",
              "</table>\n",
              "</div>\n",
              "      <button class=\"colab-df-convert\" onclick=\"convertToInteractive('df-afb02d52-7b5e-425d-8cf4-36f420475d1c')\"\n",
              "              title=\"Convert this dataframe to an interactive table.\"\n",
              "              style=\"display:none;\">\n",
              "        \n",
              "  <svg xmlns=\"http://www.w3.org/2000/svg\" height=\"24px\"viewBox=\"0 0 24 24\"\n",
              "       width=\"24px\">\n",
              "    <path d=\"M0 0h24v24H0V0z\" fill=\"none\"/>\n",
              "    <path d=\"M18.56 5.44l.94 2.06.94-2.06 2.06-.94-2.06-.94-.94-2.06-.94 2.06-2.06.94zm-11 1L8.5 8.5l.94-2.06 2.06-.94-2.06-.94L8.5 2.5l-.94 2.06-2.06.94zm10 10l.94 2.06.94-2.06 2.06-.94-2.06-.94-.94-2.06-.94 2.06-2.06.94z\"/><path d=\"M17.41 7.96l-1.37-1.37c-.4-.4-.92-.59-1.43-.59-.52 0-1.04.2-1.43.59L10.3 9.45l-7.72 7.72c-.78.78-.78 2.05 0 2.83L4 21.41c.39.39.9.59 1.41.59.51 0 1.02-.2 1.41-.59l7.78-7.78 2.81-2.81c.8-.78.8-2.07 0-2.86zM5.41 20L4 18.59l7.72-7.72 1.47 1.35L5.41 20z\"/>\n",
              "  </svg>\n",
              "      </button>\n",
              "      \n",
              "  <style>\n",
              "    .colab-df-container {\n",
              "      display:flex;\n",
              "      flex-wrap:wrap;\n",
              "      gap: 12px;\n",
              "    }\n",
              "\n",
              "    .colab-df-convert {\n",
              "      background-color: #E8F0FE;\n",
              "      border: none;\n",
              "      border-radius: 50%;\n",
              "      cursor: pointer;\n",
              "      display: none;\n",
              "      fill: #1967D2;\n",
              "      height: 32px;\n",
              "      padding: 0 0 0 0;\n",
              "      width: 32px;\n",
              "    }\n",
              "\n",
              "    .colab-df-convert:hover {\n",
              "      background-color: #E2EBFA;\n",
              "      box-shadow: 0px 1px 2px rgba(60, 64, 67, 0.3), 0px 1px 3px 1px rgba(60, 64, 67, 0.15);\n",
              "      fill: #174EA6;\n",
              "    }\n",
              "\n",
              "    [theme=dark] .colab-df-convert {\n",
              "      background-color: #3B4455;\n",
              "      fill: #D2E3FC;\n",
              "    }\n",
              "\n",
              "    [theme=dark] .colab-df-convert:hover {\n",
              "      background-color: #434B5C;\n",
              "      box-shadow: 0px 1px 3px 1px rgba(0, 0, 0, 0.15);\n",
              "      filter: drop-shadow(0px 1px 2px rgba(0, 0, 0, 0.3));\n",
              "      fill: #FFFFFF;\n",
              "    }\n",
              "  </style>\n",
              "\n",
              "      <script>\n",
              "        const buttonEl =\n",
              "          document.querySelector('#df-afb02d52-7b5e-425d-8cf4-36f420475d1c button.colab-df-convert');\n",
              "        buttonEl.style.display =\n",
              "          google.colab.kernel.accessAllowed ? 'block' : 'none';\n",
              "\n",
              "        async function convertToInteractive(key) {\n",
              "          const element = document.querySelector('#df-afb02d52-7b5e-425d-8cf4-36f420475d1c');\n",
              "          const dataTable =\n",
              "            await google.colab.kernel.invokeFunction('convertToInteractive',\n",
              "                                                     [key], {});\n",
              "          if (!dataTable) return;\n",
              "\n",
              "          const docLinkHtml = 'Like what you see? Visit the ' +\n",
              "            '<a target=\"_blank\" href=https://colab.research.google.com/notebooks/data_table.ipynb>data table notebook</a>'\n",
              "            + ' to learn more about interactive tables.';\n",
              "          element.innerHTML = '';\n",
              "          dataTable['output_type'] = 'display_data';\n",
              "          await google.colab.output.renderOutput(dataTable, element);\n",
              "          const docLink = document.createElement('div');\n",
              "          docLink.innerHTML = docLinkHtml;\n",
              "          element.appendChild(docLink);\n",
              "        }\n",
              "      </script>\n",
              "    </div>\n",
              "  </div>\n",
              "  "
            ]
          },
          "metadata": {},
          "execution_count": 63
        }
      ]
    },
    {
      "cell_type": "code",
      "source": [
        "from sklearn.preprocessing import OneHotEncoder\n",
        "\n",
        "df = pd.get_dummies(df[['temperatura', 'aparencia', 'vento']])\n",
        "df"
      ],
      "metadata": {
        "colab": {
          "base_uri": "https://localhost:8080/",
          "height": 206
        },
        "id": "ZeSgKSFxEvYh",
        "outputId": "3c97e7c5-25f4-417a-eeb0-0e1bbccb6158"
      },
      "execution_count": 64,
      "outputs": [
        {
          "output_type": "execute_result",
          "data": {
            "text/plain": [
              "   temperatura  vento  aparencia_chuvoso  aparencia_ensolarado  \\\n",
              "0            0      1                  0                     0   \n",
              "1            2      0                  0                     0   \n",
              "2            1      0                  1                     0   \n",
              "3            0      0                  1                     0   \n",
              "4            1      1                  0                     1   \n",
              "\n",
              "   aparencia_nublado  \n",
              "0                  1  \n",
              "1                  1  \n",
              "2                  0  \n",
              "3                  0  \n",
              "4                  0  "
            ],
            "text/html": [
              "\n",
              "  <div id=\"df-6dca4441-2534-4da9-92fb-0f22ba362cb7\">\n",
              "    <div class=\"colab-df-container\">\n",
              "      <div>\n",
              "<style scoped>\n",
              "    .dataframe tbody tr th:only-of-type {\n",
              "        vertical-align: middle;\n",
              "    }\n",
              "\n",
              "    .dataframe tbody tr th {\n",
              "        vertical-align: top;\n",
              "    }\n",
              "\n",
              "    .dataframe thead th {\n",
              "        text-align: right;\n",
              "    }\n",
              "</style>\n",
              "<table border=\"1\" class=\"dataframe\">\n",
              "  <thead>\n",
              "    <tr style=\"text-align: right;\">\n",
              "      <th></th>\n",
              "      <th>temperatura</th>\n",
              "      <th>vento</th>\n",
              "      <th>aparencia_chuvoso</th>\n",
              "      <th>aparencia_ensolarado</th>\n",
              "      <th>aparencia_nublado</th>\n",
              "    </tr>\n",
              "  </thead>\n",
              "  <tbody>\n",
              "    <tr>\n",
              "      <th>0</th>\n",
              "      <td>0</td>\n",
              "      <td>1</td>\n",
              "      <td>0</td>\n",
              "      <td>0</td>\n",
              "      <td>1</td>\n",
              "    </tr>\n",
              "    <tr>\n",
              "      <th>1</th>\n",
              "      <td>2</td>\n",
              "      <td>0</td>\n",
              "      <td>0</td>\n",
              "      <td>0</td>\n",
              "      <td>1</td>\n",
              "    </tr>\n",
              "    <tr>\n",
              "      <th>2</th>\n",
              "      <td>1</td>\n",
              "      <td>0</td>\n",
              "      <td>1</td>\n",
              "      <td>0</td>\n",
              "      <td>0</td>\n",
              "    </tr>\n",
              "    <tr>\n",
              "      <th>3</th>\n",
              "      <td>0</td>\n",
              "      <td>0</td>\n",
              "      <td>1</td>\n",
              "      <td>0</td>\n",
              "      <td>0</td>\n",
              "    </tr>\n",
              "    <tr>\n",
              "      <th>4</th>\n",
              "      <td>1</td>\n",
              "      <td>1</td>\n",
              "      <td>0</td>\n",
              "      <td>1</td>\n",
              "      <td>0</td>\n",
              "    </tr>\n",
              "  </tbody>\n",
              "</table>\n",
              "</div>\n",
              "      <button class=\"colab-df-convert\" onclick=\"convertToInteractive('df-6dca4441-2534-4da9-92fb-0f22ba362cb7')\"\n",
              "              title=\"Convert this dataframe to an interactive table.\"\n",
              "              style=\"display:none;\">\n",
              "        \n",
              "  <svg xmlns=\"http://www.w3.org/2000/svg\" height=\"24px\"viewBox=\"0 0 24 24\"\n",
              "       width=\"24px\">\n",
              "    <path d=\"M0 0h24v24H0V0z\" fill=\"none\"/>\n",
              "    <path d=\"M18.56 5.44l.94 2.06.94-2.06 2.06-.94-2.06-.94-.94-2.06-.94 2.06-2.06.94zm-11 1L8.5 8.5l.94-2.06 2.06-.94-2.06-.94L8.5 2.5l-.94 2.06-2.06.94zm10 10l.94 2.06.94-2.06 2.06-.94-2.06-.94-.94-2.06-.94 2.06-2.06.94z\"/><path d=\"M17.41 7.96l-1.37-1.37c-.4-.4-.92-.59-1.43-.59-.52 0-1.04.2-1.43.59L10.3 9.45l-7.72 7.72c-.78.78-.78 2.05 0 2.83L4 21.41c.39.39.9.59 1.41.59.51 0 1.02-.2 1.41-.59l7.78-7.78 2.81-2.81c.8-.78.8-2.07 0-2.86zM5.41 20L4 18.59l7.72-7.72 1.47 1.35L5.41 20z\"/>\n",
              "  </svg>\n",
              "      </button>\n",
              "      \n",
              "  <style>\n",
              "    .colab-df-container {\n",
              "      display:flex;\n",
              "      flex-wrap:wrap;\n",
              "      gap: 12px;\n",
              "    }\n",
              "\n",
              "    .colab-df-convert {\n",
              "      background-color: #E8F0FE;\n",
              "      border: none;\n",
              "      border-radius: 50%;\n",
              "      cursor: pointer;\n",
              "      display: none;\n",
              "      fill: #1967D2;\n",
              "      height: 32px;\n",
              "      padding: 0 0 0 0;\n",
              "      width: 32px;\n",
              "    }\n",
              "\n",
              "    .colab-df-convert:hover {\n",
              "      background-color: #E2EBFA;\n",
              "      box-shadow: 0px 1px 2px rgba(60, 64, 67, 0.3), 0px 1px 3px 1px rgba(60, 64, 67, 0.15);\n",
              "      fill: #174EA6;\n",
              "    }\n",
              "\n",
              "    [theme=dark] .colab-df-convert {\n",
              "      background-color: #3B4455;\n",
              "      fill: #D2E3FC;\n",
              "    }\n",
              "\n",
              "    [theme=dark] .colab-df-convert:hover {\n",
              "      background-color: #434B5C;\n",
              "      box-shadow: 0px 1px 3px 1px rgba(0, 0, 0, 0.15);\n",
              "      filter: drop-shadow(0px 1px 2px rgba(0, 0, 0, 0.3));\n",
              "      fill: #FFFFFF;\n",
              "    }\n",
              "  </style>\n",
              "\n",
              "      <script>\n",
              "        const buttonEl =\n",
              "          document.querySelector('#df-6dca4441-2534-4da9-92fb-0f22ba362cb7 button.colab-df-convert');\n",
              "        buttonEl.style.display =\n",
              "          google.colab.kernel.accessAllowed ? 'block' : 'none';\n",
              "\n",
              "        async function convertToInteractive(key) {\n",
              "          const element = document.querySelector('#df-6dca4441-2534-4da9-92fb-0f22ba362cb7');\n",
              "          const dataTable =\n",
              "            await google.colab.kernel.invokeFunction('convertToInteractive',\n",
              "                                                     [key], {});\n",
              "          if (!dataTable) return;\n",
              "\n",
              "          const docLinkHtml = 'Like what you see? Visit the ' +\n",
              "            '<a target=\"_blank\" href=https://colab.research.google.com/notebooks/data_table.ipynb>data table notebook</a>'\n",
              "            + ' to learn more about interactive tables.';\n",
              "          element.innerHTML = '';\n",
              "          dataTable['output_type'] = 'display_data';\n",
              "          await google.colab.output.renderOutput(dataTable, element);\n",
              "          const docLink = document.createElement('div');\n",
              "          docLink.innerHTML = docLinkHtml;\n",
              "          element.appendChild(docLink);\n",
              "        }\n",
              "      </script>\n",
              "    </div>\n",
              "  </div>\n",
              "  "
            ]
          },
          "metadata": {},
          "execution_count": 64
        }
      ]
    },
    {
      "cell_type": "markdown",
      "source": [
        "###Questão 7\n",
        "\n",
        "Compare o desempenho em termos de acurácia do método PCA com três componentes com o\n",
        "método de seleção univariada de características usando análise de variância e selecionando 3\n",
        "características no dataset wine. Use o classificador Vizinho Mais Próximo (k = 1) e o método de\n",
        "divisão percentual com 30% da base usada para teste."
      ],
      "metadata": {
        "id": "Xet_aDq8fC2f"
      }
    },
    {
      "cell_type": "code",
      "source": [
        "from sklearn.datasets import load_wine\n",
        "\n",
        "wine = load_wine()\n",
        "\n",
        "kNN = KNeighborsClassifier(n_neighbors=1)\n",
        "\n",
        "X_train,X_test,y_train,y_test = train_test_split(\n",
        "    wine.data,wine.target,test_size=0.3,random_state=0)"
      ],
      "metadata": {
        "id": "TtuJo8HiFJ8Q"
      },
      "execution_count": 65,
      "outputs": []
    },
    {
      "cell_type": "code",
      "source": [
        "from sklearn.decomposition import PCA\n",
        "from sklearn.neighbors import KNeighborsClassifier\n",
        "from sklearn.model_selection import cross_validate\n",
        "\n",
        "# condensar a informação contida em várias variáveis originais em um conjunto \n",
        "# menor de variáveis estatísticas (componentes) com uma perda mínima de \n",
        "# informação.\n",
        "pca = PCA(n_components=3)\n",
        "#treinando\n",
        "pca_tr = pca.fit(X_train)\n",
        "\n",
        "#reduz a base de treino em 3 colunas \n",
        "X_tr = pca_tr.transform(X_train)\n",
        "X_ts = pca_tr.transform(X_test)\n",
        "\n",
        "kNN.fit(X_tr,y_train)\n",
        "\n",
        "print ('accuracy = ', kNN.score(X_ts, y_test))"
      ],
      "metadata": {
        "colab": {
          "base_uri": "https://localhost:8080/"
        },
        "id": "gTllRD2pF-rr",
        "outputId": "4919e878-07c3-43e3-d9eb-f7a4c6e8de9f"
      },
      "execution_count": 71,
      "outputs": [
        {
          "output_type": "stream",
          "name": "stdout",
          "text": [
            "accuracy =  0.7222222222222222\n"
          ]
        }
      ]
    },
    {
      "cell_type": "code",
      "source": [
        "#método de seleção univariada de características \n",
        "#usando análise de variância e selecionando 3 características no dataset wine\n",
        "\n",
        "from sklearn.feature_selection import SelectKBest\n",
        "\n",
        "selection = SelectKBest(k=3)\n",
        "selection.fit(X_train, y_train)\n",
        "\n",
        "X_tr = selection.transform(X_train)\n",
        "X_ts = selection.transform(X_test)\n",
        "\n",
        "kNN.fit(X_tr, y_train)\n",
        "print ('accuracy = ', kNN.score(X_ts, y_test))\n",
        "\n"
      ],
      "metadata": {
        "colab": {
          "base_uri": "https://localhost:8080/"
        },
        "id": "R7Ns4yXVF86W",
        "outputId": "0773f836-75b6-4018-a6be-a120b17ee3f3"
      },
      "execution_count": 73,
      "outputs": [
        {
          "output_type": "stream",
          "name": "stdout",
          "text": [
            "accuracy =  0.6666666666666666\n"
          ]
        }
      ]
    },
    {
      "cell_type": "markdown",
      "source": [
        "###Questão 8\n",
        "\n",
        "Obtenha o desempenho (acurácia média, desvio padrão e intervalo de confiança a 95%) do\n",
        "método de seleção multivariada de características com seleção sequencial para frente e selecionando\n",
        "3 características no dataset wine. Use padronização, o classificador K Vizinhos Mais Próximo (k =\n",
        "1, 3 ou 5) e o método de validação cruzada aninhada com 3 repetições de 10 folds."
      ],
      "metadata": {
        "id": "a6n1Tk26fC9p"
      }
    },
    {
      "cell_type": "code",
      "source": [
        "#Seletor de caracteristicas guloso - SEM PADRONZAÇÃO - KNN 3\n",
        "from sklearn.feature_selection import SequentialFeatureSelector\n",
        "\n",
        "fs_forward = SequentialFeatureSelector(kNN, n_features_to_select=3,\n",
        "                direction='forward')\n",
        "\n",
        "fs_forward.fit(wine.data, wine.target)\n",
        "\n",
        "fs_selection = fs_forward.transform(wine.data)\n",
        "\n",
        "#print(fs_selection)\n",
        "\n",
        "knn = KNeighborsClassifier(n_neighbors=3)\n",
        "\n",
        "scores_fs_selection = cross_validate(knn, fs_selection, wine.target,cv=10)\n",
        "\n",
        "test_scores = scores_fs_selection['test_score']\n",
        "print(f'Media: {test_scores.mean():.2f} Std: {test_scores.std():.2f}')\n",
        "intervalConf = stats.norm.interval(0.95, loc=test_scores.mean(), \n",
        "                               scale=test_scores.std()/np.sqrt(len(test_scores)))\n",
        "print(\"Intervalo de confiança: \",intervalConf)"
      ],
      "metadata": {
        "colab": {
          "base_uri": "https://localhost:8080/"
        },
        "id": "80yhsINnQOPG",
        "outputId": "0638854d-f041-4f96-c9c5-7ed5476a8fae"
      },
      "execution_count": 86,
      "outputs": [
        {
          "output_type": "stream",
          "name": "stdout",
          "text": [
            "Media: 0.93 Std: 0.06\n",
            "Intervalo de confiança:  (0.8956606346437124, 0.9696988424804707)\n"
          ]
        }
      ]
    },
    {
      "cell_type": "code",
      "source": [
        "stanScaler = StandardScaler()\n",
        "\n",
        "kNN = KNeighborsClassifier()\n",
        "\n",
        "fs_forward = SequentialFeatureSelector(kNN, n_features_to_select=3, direction='forward')\n",
        "\n",
        "pipeline = Pipeline([('scaler', stanScaler), ('transformer', fs_forward), ('estimator', kNN)])\n",
        "\n",
        "grade={'estimator__n_neighbors': [1,3,5]}\n",
        "\n",
        "rkf = RepeatedStratifiedKFold(n_splits=10, n_repeats=3)\n",
        "\n",
        "gs = GridSearchCV(estimator=pipeline, param_grid = grade, \n",
        "                  scoring='accuracy', cv = 4)\n",
        "\n",
        "scores = cross_val_score(gs, wine.data,wine.target, scoring='accuracy', cv = rkf)\n",
        "print(scores)\n",
        "\n",
        "mean = scores.mean()\n",
        "std = scores.std()\n",
        "inf, sup = stats.norm.interval(0.95, loc=mean, \n",
        "                               scale=std/np.sqrt(len(scores)))\n",
        "\n",
        "print(\"\\nMean Accuracy: %0.2f Standard Deviation: %0.2f\" % (mean, std))\n",
        "print (\"Accuracy Confidence Interval (95%%): (%0.2f, %0.2f)\\n\" % \n",
        "       (inf, sup)) "
      ],
      "metadata": {
        "colab": {
          "base_uri": "https://localhost:8080/"
        },
        "id": "Y8EiDKFOR3-B",
        "outputId": "49a35d63-2048-4206-a236-cf2f1e8ed20f"
      },
      "execution_count": 87,
      "outputs": [
        {
          "output_type": "stream",
          "name": "stdout",
          "text": [
            "[0.94444444 0.88888889 0.88888889 0.88888889 0.94444444 0.94444444\n",
            " 0.88888889 0.94444444 0.94117647 0.94117647 0.83333333 0.94444444\n",
            " 0.94444444 1.         0.94444444 1.         0.94444444 0.94444444\n",
            " 0.88235294 0.88235294 1.         0.88888889 0.94444444 0.94444444\n",
            " 0.77777778 0.88888889 0.94444444 1.         0.94117647 0.88235294]\n",
            "\n",
            "Mean Accuracy: 0.92 Standard Deviation: 0.05\n",
            "Accuracy Confidence Interval (95%): (0.91, 0.94)\n",
            "\n"
          ]
        }
      ]
    }
  ]
}